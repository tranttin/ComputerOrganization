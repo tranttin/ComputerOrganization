{
 "cells": [
  {
   "cell_type": "markdown",
   "id": "7d0135",
   "metadata": {
    "collapsed": false
   },
   "source": [
    "_**TỔ CHỨC MÁY TÍNH**_\n",
    "\n",
    "#### **CHƯƠNG 1 \\- DIGITAL SYSTEMS AND BINARY NUMBERS**\n",
    "\n"
   ]
  },
  {
   "cell_type": "markdown",
   "id": "286731",
   "metadata": {
    "collapsed": false
   },
   "source": [
    "###### _**Công cụ: chuyển đổi hệ 10 về hệ N**_\n",
    "\n"
   ]
  },
  {
   "cell_type": "code",
   "execution_count": 0,
   "id": "5fb579",
   "metadata": {
    "collapsed": false
   },
   "outputs": [
   ],
   "source": [
    "def convert_integer_part(n, base):\n",
    "    digits = \"0123456789ABCDEF\"\n",
    "    result = \"\"\n",
    "    while n > 0:\n",
    "        result = digits[n % base] + result\n",
    "        n //= base\n",
    "    return result if result else \"0\"\n",
    "\n",
    "def convert_fractional_part(fraction, base):\n",
    "    digits = \"0123456789ABCDEF\"\n",
    "    result = \"\"\n",
    "    count = 0\n",
    "    while fraction > 0 and count < 10:  # Giới hạn số chữ số thập phân tối đa\n",
    "        fraction *= base\n",
    "        digit = int(fraction)\n",
    "        result += digits[digit]\n",
    "        fraction -= digit\n",
    "        count += 1\n",
    "    return result\n",
    "\n",
    "def decimal_to_base(n, base):\n",
    "    if base < 2 or base > 16:\n",
    "        return \"Base phải nằm trong khoảng từ 2 đến 16\"\n",
    "\n",
    "    integer_part = int(n)\n",
    "    fractional_part = n - integer_part\n",
    "\n",
    "    integer_conversion = convert_integer_part(integer_part, base)\n",
    "    if fractional_part > 0:\n",
    "        fractional_conversion = convert_fractional_part(fractional_part, base)\n",
    "        return f\"{integer_conversion}.{fractional_conversion}\"\n",
    "    else:\n",
    "        return integer_conversion\n",
    "\n",
    "# Ví dụ sử dụng:\n",
    "number = 41.713\n",
    "base = 2\n",
    "print(decimal_to_base(number, base))\n"
   ]
  },
  {
   "cell_type": "markdown",
   "id": "4884af",
   "metadata": {
    "collapsed": false
   },
   "source": [
    "###### _**Công cụ: chuyển đổi hệ N về hệ 10**_\n",
    "\n"
   ]
  },
  {
   "cell_type": "code",
   "execution_count": 0,
   "id": "428a0c",
   "metadata": {
    "collapsed": false
   },
   "outputs": [
   ],
   "source": [
    "def convert_to_decimal_integer_part(integer_part, base):\n",
    "    digits = \"0123456789ABCDEF\"\n",
    "    decimal_value = 0\n",
    "    for digit in integer_part:\n",
    "        decimal_value = decimal_value * base + digits.index(digit)\n",
    "    return decimal_value\n",
    "\n",
    "def convert_to_decimal_fractional_part(fractional_part, base):\n",
    "    digits = \"0123456789ABCDEF\"\n",
    "    decimal_value = 0\n",
    "    power = -1\n",
    "    for digit in fractional_part:\n",
    "        decimal_value += digits.index(digit) * (base ** power)\n",
    "        power -= 1\n",
    "    return decimal_value\n",
    "\n",
    "def base_to_decimal(number, base):\n",
    "    if base < 2 or base > 16:\n",
    "        return \"Base phải nằm trong khoảng từ 2 đến 16\"\n",
    "\n",
    "    if '.' in number:\n",
    "        integer_part, fractional_part = number.split('.')\n",
    "        integer_conversion = convert_to_decimal_integer_part(integer_part, base)\n",
    "        fractional_conversion = convert_to_decimal_fractional_part(fractional_part, base)\n",
    "        return integer_conversion + fractional_conversion\n",
    "    else:\n",
    "        return convert_to_decimal_integer_part(number, base)\n",
    "\n",
    "# Ví dụ sử dụng:\n",
    "number = \"7B.74BC6A7F0C\"  # số ở hệ 16\n",
    "base = 16\n",
    "print(base_to_decimal(number, base))\n"
   ]
  },
  {
   "cell_type": "markdown",
   "id": "ca8d9f",
   "metadata": {
    "collapsed": false
   },
   "source": [
    "###### _**Công cụ: Phân cụm một dãy nhị phân và chuyển thành hệ bát phân hoặc thập lục phân**_\n",
    "\n"
   ]
  },
  {
   "cell_type": "code",
   "execution_count": 0,
   "id": "d3d697",
   "metadata": {
    "collapsed": false
   },
   "outputs": [
   ],
   "source": [
    "def pad_bits(binary_str, group_size):\n",
    "    # Tách phần nguyên và phần thập phân\n",
    "    if '.' in binary_str:\n",
    "        integer_part, fractional_part = binary_str.split('.')\n",
    "    else:\n",
    "        integer_part, fractional_part = binary_str, \"\"\n",
    "\n",
    "    # Thêm số 0 vào bên trái phần nguyên\n",
    "    while len(integer_part) % group_size != 0:\n",
    "        integer_part = '0' + integer_part\n",
    "\n",
    "    # Thêm số 0 vào bên phải phần thập phân\n",
    "    while len(fractional_part) % group_size != 0:\n",
    "        fractional_part += '0'\n",
    "\n",
    "    return integer_part, fractional_part\n",
    "\n",
    "def group_bits(integer_part, fractional_part, group_size):\n",
    "    # Gom phần nguyên từ phải qua trái\n",
    "    grouped_integer = ' '.join([integer_part[max(0, i - group_size):i] \n",
    "                                for i in range(len(integer_part), 0, -group_size)])\n",
    "\n",
    "    # Gom phần thập phân từ trái qua phải\n",
    "    grouped_fractional = ' '.join([fractional_part[i:i + group_size] \n",
    "                                   for i in range(0, len(fractional_part), group_size)])\n",
    "\n",
    "    return grouped_integer, grouped_fractional\n",
    "\n",
    "def convert_group_to_octal(binary_group):\n",
    "    return str(int(binary_group, 2))\n",
    "\n",
    "def convert_group_to_hex(binary_group):\n",
    "    return hex(int(binary_group, 2))[2:].upper()\n",
    "\n",
    "def convert_grouped_bits_to_octal(grouped_integer, grouped_fractional):\n",
    "    octal_integer = ''.join([convert_group_to_octal(group) for group in grouped_integer.split()])\n",
    "    octal_fraction = ''.join([convert_group_to_octal(group) for group in grouped_fractional.split()])\n",
    "    return octal_integer + ('.' + octal_fraction if octal_fraction else '')\n",
    "\n",
    "def convert_grouped_bits_to_hex(grouped_integer, grouped_fractional):\n",
    "    hex_integer = ''.join([convert_group_to_hex(group) for group in grouped_integer.split()])\n",
    "    hex_fraction = ''.join([convert_group_to_hex(group) for group in grouped_fractional.split()])\n",
    "    return hex_integer + ('.' + hex_fraction if hex_fraction else '')\n",
    "\n",
    "def main():\n",
    "    binary_input = input(\"Nhập dãy nhị phân (có phần lẻ): \")\n",
    "\n",
    "    # Gom cụm 3 bit cho hệ bát phân\n",
    "    integer_part_octal, fractional_part_octal = pad_bits(binary_input, 3)\n",
    "    grouped_integer_octal, grouped_fractional_octal = group_bits(integer_part_octal, fractional_part_octal, 3)\n",
    "    print(f\"Dãy nhị phân gom thành cụm 3 bit: {grouped_integer_octal} . {grouped_fractional_octal}\")\n",
    "    octal_result = convert_grouped_bits_to_octal(grouped_integer_octal, grouped_fractional_octal)\n",
    "    print(f\"Kết quả chuyển về hệ bát phân: {octal_result}\")\n",
    "\n",
    "    # Gom cụm 4 bit cho hệ thập lục phân\n",
    "    integer_part_hex, fractional_part_hex = pad_bits(binary_input, 4)\n",
    "    grouped_integer_hex, grouped_fractional_hex = group_bits(integer_part_hex, fractional_part_hex, 4)\n",
    "    print(f\"Dãy nhị phân gom thành cụm 4 bit: {grouped_integer_hex} . {grouped_fractional_hex}\")\n",
    "    hex_result = convert_grouped_bits_to_hex(grouped_integer_hex, grouped_fractional_hex)\n",
    "    print(f\"Kết quả chuyển về hệ thập lục phân: {hex_result}\")\n",
    "\n",
    "# Chạy chương trình\n",
    "main()\n"
   ]
  },
  {
   "cell_type": "markdown",
   "id": "0294ad",
   "metadata": {
    "collapsed": false
   },
   "source": [
    "###### _**Công cụ: tìm số bù 9 và bù 10 của một số ở hệ decimal**_\n",
    "\n"
   ]
  },
  {
   "cell_type": "code",
   "execution_count": 0,
   "id": "fb5024",
   "metadata": {
    "collapsed": false
   },
   "outputs": [
   ],
   "source": [
    "def complement_9(n):\n",
    "    # Tính số bù 9\n",
    "    return (10 ** len(str(n))) - 1 - n\n",
    "\n",
    "def complement_10(n):\n",
    "    # Tính số bù 10\n",
    "    return (10 ** len(str(n))) - n\n",
    "\n",
    "def main():\n",
    "    # Nhập số nguyên dương\n",
    "    number = int(input(\"Nhập một số nguyên dương: \"))\n",
    "    \n",
    "    if number < 0:\n",
    "        print(\"Vui lòng nhập số nguyên dương.\")\n",
    "        return\n",
    "\n",
    "    b9 = complement_9(number)\n",
    "    b10 = complement_10(number)\n",
    "\n",
    "    print(f\"Số bù 9 của {number} là: {b9}\")\n",
    "    print(f\"Số bù 10 của {number} là: {b10}\")\n",
    "\n",
    "# Chạy chương trình\n",
    "main()\n"
   ]
  },
  {
   "cell_type": "markdown",
   "id": "6d6e7f",
   "metadata": {
    "collapsed": false
   },
   "source": [
    "###### _**Công cụ: Mô phỏng việc gửi 1 chuỗi kí tự và sử dụng bit\\-parity để kiểm tra, bit sai được sinh ra với xác suất định trước.**_\n",
    "\n"
   ]
  },
  {
   "cell_type": "code",
   "execution_count": 0,
   "id": "ca8285",
   "metadata": {
    "collapsed": false
   },
   "outputs": [
   ],
   "source": [
    "import random\n",
    "\n",
    "def calculate_parity(byte):\n",
    "    # Tính toán parity chẵn\n",
    "    return sum(int(bit) for bit in byte) % 2 == 0\n",
    "\n",
    "def create_byte(character):\n",
    "    # Chuyển đổi ký tự thành 7 bits và tính bit parity\n",
    "    ascii_value = ord(character)\n",
    "    byte = f\"{ascii_value:07b}\"  # Chuyển sang nhị phân 7 bits\n",
    "    parity_bit = '0' if calculate_parity(byte) else '1'\n",
    "    return byte + parity_bit  # Trả về byte 8 bits\n",
    "\n",
    "def transmit_byte(byte, error_probability):\n",
    "    # Giả lập quá trình truyền và kiểm tra lỗi\n",
    "    if random.random() < error_probability:\n",
    "        # Giả lập lỗi bằng cách thay đổi một bit ngẫu nhiên\n",
    "        byte_list = list(byte)\n",
    "        error_bit = random.randint(0, 7)  # Chọn một bit ngẫu nhiên để thay đổi\n",
    "        byte_list[error_bit] = '1' if byte_list[error_bit] == '0' else '0'  # Đổi giá trị bit\n",
    "        return ''.join(byte_list)  # Trả về byte đã bị lỗi\n",
    "    return byte  # Không có lỗi\n",
    "\n",
    "def check_byte(byte):\n",
    "    # Tách byte thành 7 bits và bit parity\n",
    "    data_bits = byte[:-1]\n",
    "    received_parity = byte[-1]\n",
    "    calculated_parity = '0' if calculate_parity(data_bits) else '1'\n",
    "\n",
    "    # Kiểm tra tính đúng đắn\n",
    "    return received_parity == calculated_parity\n",
    "\n",
    "def main():\n",
    "    characters = input(\"Nhập chuỗi ký tự: \")\n",
    "    error_probability = float(input(\"Nhập xác suất lỗi (0.0 - 1.0): \"))\n",
    "\n",
    "    for character in characters:\n",
    "        byte = create_byte(character)\n",
    "        print(f\"Byte gửi: {byte}\")\n",
    "\n",
    "        while True:\n",
    "            received_byte = transmit_byte(byte, error_probability)\n",
    "            print(f\"Byte nhận: {received_byte}\")\n",
    "\n",
    "            if not check_byte(received_byte):\n",
    "                print(\"Phát hiện lỗi. Yêu cầu gửi lại.\")\n",
    "            else:\n",
    "                print(\"Byte nhận chính xác.\")\n",
    "                break  # Thoát vòng lặp khi nhận đúng byte\n",
    "\n",
    "# Chạy chương trình\n",
    "main()\n"
   ]
  }
 ],
 "metadata": {
  "kernelspec": {
   "argv": [
    "/usr/bin/python3",
    "-m",
    "ipykernel",
    "--HistoryManager.enabled=False",
    "--matplotlib=inline",
    "-c",
    "%config InlineBackend.figure_formats = set(['retina'])\nimport matplotlib; matplotlib.rcParams['figure.figsize'] = (12, 7)",
    "-f",
    "{connection_file}"
   ],
   "display_name": "Python 3 (system-wide)",
   "env": {
   },
   "language": "python",
   "metadata": {
    "cocalc": {
     "description": "Python 3 programming language",
     "priority": 100,
     "url": "https://www.python.org/"
    }
   },
   "name": "python3",
   "resource_dir": "/ext/jupyter/kernels/python3"
  }
 },
 "nbformat": 4,
 "nbformat_minor": 4
}